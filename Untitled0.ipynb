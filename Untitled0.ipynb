{
  "nbformat": 4,
  "nbformat_minor": 0,
  "metadata": {
    "colab": {
      "name": "Untitled0.ipynb",
      "provenance": [],
      "collapsed_sections": [],
      "authorship_tag": "ABX9TyNsKoPgSR+q536vbUCaX7cu",
      "include_colab_link": true
    },
    "kernelspec": {
      "name": "python3",
      "display_name": "Python 3"
    }
  },
  "cells": [
    {
      "cell_type": "markdown",
      "metadata": {
        "id": "view-in-github",
        "colab_type": "text"
      },
      "source": [
        "<a href=\"https://colab.research.google.com/github/yjin982/yjin982.github.io/blob/master/Untitled0.ipynb\" target=\"_parent\"><img src=\"https://colab.research.google.com/assets/colab-badge.svg\" alt=\"Open In Colab\"/></a>"
      ]
    },
    {
      "cell_type": "markdown",
      "metadata": {
        "id": "tzqwv__VVqf8",
        "colab_type": "text"
      },
      "source": [
        "1. Array 정의 및 사용하기\n",
        "\n",
        "   파이썬의 리스트는 속도가 느리고 메모리를 많이 차지하지만 numpy 배열(array)를 사용하면 적은 메모리로 데이터를 빠르게 처리 할 수 있다. 배열은 리스트와 비슷하지만 다음과 같은 점에서 다르다.\n",
        "  - 모든 원소가 같은 자료형이어야 한다.\n",
        "  - 원소의 갯수를 바꿀 수 없다.\n",
        "\n",
        "  Numpy의 배열 연산은 C로 구현된 내부 반복문을 사용하기 때문에 파이썬 반복문에 비해 속도가 빠르며 벡터화 연산을 이용하여 간단한 코드로도 선형대수 연산을 수행할 수 있다.\n"
      ]
    },
    {
      "cell_type": "code",
      "metadata": {
        "id": "uP0Ayt8PVZ7x",
        "colab_type": "code",
        "colab": {
          "base_uri": "https://localhost:8080/",
          "height": 53
        },
        "outputId": "af8636b6-a251-4705-fc83-7da0479a83f3"
      },
      "source": [
        "#일반적인 Array와 Numpy Array 비교\n",
        "import numpy as np\n",
        "\n",
        "li = list(range(10))\n",
        "print(id(li[0]), id(li[1]))  \n",
        "#리스트는 갯수만큼 요소 인스턴스가 따로 생김(각각 다른 주소를 가짐)\n",
        "\n",
        "numpy_arr = np.array(range(10))\n",
        "print(id(numpy_arr[0]), id(numpy_arr[1])) \n",
        "#numpy 배열은 c언어의 배열처럼 연속적인 메모리 배치를 가지기 때문에 모든 원소가 같은 자료형이고 주소도 같음"
      ],
      "execution_count": 3,
      "outputs": [
        {
          "output_type": "stream",
          "text": [
            "10914464 10914496\n",
            "139674742508928 139674742508928\n"
          ],
          "name": "stdout"
        }
      ]
    },
    {
      "cell_type": "code",
      "metadata": {
        "id": "y4AVY_aAX6Vf",
        "colab_type": "code",
        "colab": {
          "base_uri": "https://localhost:8080/",
          "height": 73
        },
        "outputId": "27b3e852-e1ab-4295-a58d-8f809c385184"
      },
      "source": [
        "#리스트와 배열의 각 요소에 10을 곱하는 경우\n",
        "print(li * 10)        #요소에 10이 곱해지는 것이 아니라 10번씩 반복이 됨\n",
        "for i in li:          #각 요소별로 10을 곱하기 위해서는 for문을 이용\n",
        "  print(i * 10, end=' ')\n",
        "\n",
        "print(numpy_arr * 10)"
      ],
      "execution_count": 6,
      "outputs": [
        {
          "output_type": "stream",
          "text": [
            "[0, 1, 2, 3, 4, 5, 6, 7, 8, 9, 0, 1, 2, 3, 4, 5, 6, 7, 8, 9, 0, 1, 2, 3, 4, 5, 6, 7, 8, 9, 0, 1, 2, 3, 4, 5, 6, 7, 8, 9, 0, 1, 2, 3, 4, 5, 6, 7, 8, 9, 0, 1, 2, 3, 4, 5, 6, 7, 8, 9, 0, 1, 2, 3, 4, 5, 6, 7, 8, 9, 0, 1, 2, 3, 4, 5, 6, 7, 8, 9, 0, 1, 2, 3, 4, 5, 6, 7, 8, 9, 0, 1, 2, 3, 4, 5, 6, 7, 8, 9]\n",
            "0 10 20 30 40 50 60 70 80 90 [ 0 10 20 30 40 50 60 70 80 90]\n"
          ],
          "name": "stdout"
        }
      ]
    },
    {
      "cell_type": "markdown",
      "metadata": {
        "id": "YBZCZmSiZ1XI",
        "colab_type": "text"
      },
      "source": [
        "벡터화 연산은 비교 연산과 논리 연산을 포함한 모든 종류의 수학 연산에 적용된다. "
      ]
    },
    {
      "cell_type": "code",
      "metadata": {
        "id": "BbOTS1RuZ0pN",
        "colab_type": "code",
        "colab": {
          "base_uri": "https://localhost:8080/",
          "height": 35
        },
        "outputId": "b17a4eb4-8dd4-4db2-95ff-5ef9f121703e"
      },
      "source": [
        "a = np.array([1, 2, 3])\n",
        "b = np.array([10, 20, 30])\n",
        "\n",
        "print(a.dtype, a.shape, a.ndim, a.size, a.nbytes)\n",
        "#배열의 타입, 배열의 차원, 배열의 차원, 배열의 데이터 사이즈, 배열의 메모리 크기 "
      ],
      "execution_count": 10,
      "outputs": [
        {
          "output_type": "stream",
          "text": [
            "int64 (3,) 1 3 24\n"
          ],
          "name": "stdout"
        }
      ]
    },
    {
      "cell_type": "code",
      "metadata": {
        "id": "C-z7LNOGaWMv",
        "colab_type": "code",
        "colab": {
          "base_uri": "https://localhost:8080/",
          "height": 35
        },
        "outputId": "afe8e490-b8cc-443c-ea47-8ee87a001d67"
      },
      "source": [
        "2 * a + b"
      ],
      "execution_count": 11,
      "outputs": [
        {
          "output_type": "execute_result",
          "data": {
            "text/plain": [
              "array([12, 24, 36])"
            ]
          },
          "metadata": {
            "tags": []
          },
          "execution_count": 11
        }
      ]
    },
    {
      "cell_type": "code",
      "metadata": {
        "id": "jAfj5LUnbLtX",
        "colab_type": "code",
        "colab": {
          "base_uri": "https://localhost:8080/",
          "height": 35
        },
        "outputId": "b48a7985-4399-42d3-9d24-cafb3727f8d2"
      },
      "source": [
        "a == 2"
      ],
      "execution_count": 12,
      "outputs": [
        {
          "output_type": "execute_result",
          "data": {
            "text/plain": [
              "array([False,  True, False])"
            ]
          },
          "metadata": {
            "tags": []
          },
          "execution_count": 12
        }
      ]
    },
    {
      "cell_type": "code",
      "metadata": {
        "id": "DujBAthIbM72",
        "colab_type": "code",
        "colab": {
          "base_uri": "https://localhost:8080/",
          "height": 35
        },
        "outputId": "9603c69a-6565-475b-a482-a637ccd3ea9b"
      },
      "source": [
        "b > 10"
      ],
      "execution_count": 13,
      "outputs": [
        {
          "output_type": "execute_result",
          "data": {
            "text/plain": [
              "array([False,  True,  True])"
            ]
          },
          "metadata": {
            "tags": []
          },
          "execution_count": 13
        }
      ]
    },
    {
      "cell_type": "code",
      "metadata": {
        "id": "9Cd87Y47bN7d",
        "colab_type": "code",
        "colab": {
          "base_uri": "https://localhost:8080/",
          "height": 35
        },
        "outputId": "29f97117-e35d-41a8-c30d-e0b7238adda0"
      },
      "source": [
        "(a == 2) & (b > 10)"
      ],
      "execution_count": 15,
      "outputs": [
        {
          "output_type": "execute_result",
          "data": {
            "text/plain": [
              "array([False,  True, False])"
            ]
          },
          "metadata": {
            "tags": []
          },
          "execution_count": 15
        }
      ]
    },
    {
      "cell_type": "code",
      "metadata": {
        "id": "nEhBMuKwbPI_",
        "colab_type": "code",
        "colab": {}
      },
      "source": [
        ""
      ],
      "execution_count": 0,
      "outputs": []
    }
  ]
}